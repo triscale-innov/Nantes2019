{
 "cells": [
  {
   "cell_type": "code",
   "execution_count": 1,
   "metadata": {
    "slideshow": {
     "slide_type": "skip"
    }
   },
   "outputs": [],
   "source": [
    "include(\"util_simplex.jl\")"
   ]
  },
  {
   "cell_type": "markdown",
   "metadata": {
    "slideshow": {
     "slide_type": "slide"
    }
   },
   "source": [
    "# Problème d'optimisation linéaire avec l'algorithme du simplexe\n",
    "\n",
    "Puisque la journée est placée sous le signe de l'optimisation, consacrons nous (enfin) à un problème linéaire :\n",
    "\n",
    "<br/>\n",
    "\n",
    "\\begin{align}\n",
    "   argmin_x & \\; c\\cdot x \\\\\n",
    "\\text{s.c.} & \\; Ax \\leqslant b\n",
    "\\end{align}"
   ]
  },
  {
   "cell_type": "code",
   "execution_count": 2,
   "metadata": {
    "slideshow": {
     "slide_type": "slide"
    }
   },
   "outputs": [],
   "source": [
    "A = load(Matrix{Float64}, \"dataSimplex2/A.dat\");\n",
    "b = load(Vector{Float64}, \"dataSimplex2/b.dat\");\n",
    "c = load(Vector{Float64}, \"dataSimplex2/c.dat\");"
   ]
  },
  {
   "cell_type": "code",
   "execution_count": 3,
   "metadata": {},
   "outputs": [
    {
     "data": {
      "text/plain": [
       "8-element Array{Float64,1}:\n",
       " 1564.4858503741316 \n",
       "   85.48387096774151\n",
       "  746.429393672448  \n",
       "    0.0             \n",
       "  976.8497016969716 \n",
       "    0.0             \n",
       " 1261.6013897416503 \n",
       "    0.0             "
      ]
     },
     "execution_count": 3,
     "metadata": {},
     "output_type": "execute_result"
    }
   ],
   "source": [
    "sol1 = simplex(A, b, c).solution"
   ]
  },
  {
   "cell_type": "markdown",
   "metadata": {
    "slideshow": {
     "slide_type": "slide"
    }
   },
   "source": [
    "## Analyse en arithmétique rationnelle"
   ]
  },
  {
   "cell_type": "code",
   "execution_count": 4,
   "metadata": {},
   "outputs": [
    {
     "data": {
      "text/plain": [
       "8-element Array{Float64,1}:\n",
       " 1564.4858503741316 \n",
       "   85.48387096774151\n",
       "  746.429393672448  \n",
       "    0.0             \n",
       "  976.8497016969716 \n",
       "    0.0             \n",
       " 1261.6013897416503 \n",
       "    0.0             "
      ]
     },
     "execution_count": 4,
     "metadata": {},
     "output_type": "execute_result"
    }
   ],
   "source": [
    "const Rat = Rational{BigInt}\n",
    "\n",
    "sol2 = simplex(Rat.(A), Rat.(b), Rat.(c)).solution .|> value"
   ]
  },
  {
   "cell_type": "code",
   "execution_count": 5,
   "metadata": {
    "slideshow": {
     "slide_type": "subslide"
    }
   },
   "outputs": [
    {
     "data": {
      "text/plain": [
       "8-element Array{Float64,1}:\n",
       " 0.0\n",
       " 0.0\n",
       " 0.0\n",
       " 0.0\n",
       " 0.0\n",
       " 0.0\n",
       " 0.0\n",
       " 0.0"
      ]
     },
     "execution_count": 5,
     "metadata": {},
     "output_type": "execute_result"
    }
   ],
   "source": [
    "sol2 .- sol1"
   ]
  },
  {
   "cell_type": "markdown",
   "metadata": {
    "slideshow": {
     "slide_type": "slide"
    }
   },
   "source": [
    "## Analyse en arithmétique stochastique"
   ]
  },
  {
   "cell_type": "code",
   "execution_count": 6,
   "metadata": {
    "slideshow": {
     "slide_type": "subslide"
    }
   },
   "outputs": [
    {
     "data": {
      "text/plain": [
       "test (generic function with 1 method)"
      ]
     },
     "execution_count": 6,
     "metadata": {},
     "output_type": "execute_result"
    }
   ],
   "source": [
    "function test(T)\n",
    "    try\n",
    "        res = simplex(T.(A), T.(b), T.(c))\n",
    "        value.(res.solution)\n",
    "    catch e\n",
    "        value.(NaN*ones(T, length(c)))\n",
    "    end\n",
    "end"
   ]
  },
  {
   "cell_type": "code",
   "execution_count": 7,
   "metadata": {
    "slideshow": {
     "slide_type": "subslide"
    }
   },
   "outputs": [
    {
     "data": {
      "text/plain": [
       "8×17 Array{Float64,2}:\n",
       " 1564.49    1564.49    1564.49    …  NaN  NaN  1564.49    1564.49    NaN\n",
       "   85.4839    85.4839    85.4839     NaN  NaN    85.4839    85.4839  NaN\n",
       "  746.429    746.429    746.429      NaN  NaN   746.429    746.429   NaN\n",
       "    0.0        0.0        0.0        NaN  NaN     0.0        0.0     NaN\n",
       "  976.85     976.85     976.85       NaN  NaN   976.85     976.85    NaN\n",
       "    0.0        0.0        0.0     …  NaN  NaN     0.0        0.0     NaN\n",
       " 1261.6     1261.6     1261.6        NaN  NaN  1261.6     1261.6     NaN\n",
       "    0.0        0.0        0.0        NaN  NaN     0.0        0.0     NaN"
      ]
     },
     "execution_count": 7,
     "metadata": {},
     "output_type": "execute_result"
    }
   ],
   "source": [
    "hcat(test(Rational{BigInt}), test(Float64), (test(SFloat64) for _ in 1:15)...)"
   ]
  },
  {
   "cell_type": "markdown",
   "metadata": {
    "slideshow": {
     "slide_type": "slide"
    }
   },
   "source": [
    "## Analyse de la version \"réparée\""
   ]
  },
  {
   "cell_type": "code",
   "execution_count": 8,
   "metadata": {
    "slideshow": {
     "slide_type": "subslide"
    }
   },
   "outputs": [
    {
     "data": {
      "text/plain": [
       "8×17 Array{Float64,2}:\n",
       " 1564.49    1564.49    1564.49    1564.49    …  1564.49    1564.49    1564.49  \n",
       "   85.4839    85.4839    85.4839    85.4839       85.4839    85.4839    85.4839\n",
       "  746.429    746.429    746.429    746.429       746.429    746.429    746.429 \n",
       "    0.0        0.0        0.0        0.0           0.0        0.0        0.0   \n",
       "  976.85     976.85     976.85     976.85        976.85     976.85     976.85  \n",
       "    0.0        0.0        0.0        0.0     …     0.0        0.0        0.0   \n",
       " 1261.6     1261.6     1261.6     1261.6        1261.6     1261.6     1261.6   \n",
       "    0.0        0.0        0.0        0.0           0.0        0.0        0.0   "
      ]
     },
     "execution_count": 8,
     "metadata": {},
     "output_type": "execute_result"
    }
   ],
   "source": [
    "fix_simplex = true\n",
    "hcat(test(Rational{BigInt}), test(Float64), (test(SFloat64) for _ in 1:15)...)"
   ]
  },
  {
   "cell_type": "code",
   "execution_count": 9,
   "metadata": {
    "slideshow": {
     "slide_type": "subslide"
    }
   },
   "outputs": [
    {
     "data": {
      "text/plain": [
       "8-element Array{Tuple{Float64,Float64},1}:\n",
       " (1564.4858503741316, 15.892203692224989)\n",
       " (85.4838709677415, 15.906900233197321)  \n",
       " (746.429393672448, 15.737428125292102)  \n",
       " (0.0, NaN)                              \n",
       " (976.8497016969716, 16.02216319129637)  \n",
       " (0.0, NaN)                              \n",
       " (1261.6013897416506, 15.68171260830974) \n",
       " (0.0, NaN)                              "
      ]
     },
     "execution_count": 9,
     "metadata": {},
     "output_type": "execute_result"
    }
   ],
   "source": [
    "@reliable_digits simplex(SFloat64.(A), SFloat64.(b), SFloat64.(c)).solution"
   ]
  },
  {
   "cell_type": "code",
   "execution_count": 10,
   "metadata": {
    "slideshow": {
     "slide_type": "subslide"
    }
   },
   "outputs": [
    {
     "name": "stdout",
     "output_type": "stream",
     "text": [
      "  54.476 μs (185 allocations: 76.67 KiB)\n",
      "  209.208 μs (250 allocations: 64.19 KiB)\n",
      "  29.727 ms (859894 allocations: 18.27 MiB)\n"
     ]
    }
   ],
   "source": [
    "using BenchmarkTools\n",
    "@btime simplex(A, b, c)\n",
    "@btime simplex(SFloat64.(A), SFloat64.(b), SFloat64.(c))\n",
    "@btime simplex(Rat.(A), Rat.(b), Rat.(c));"
   ]
  }
 ],
 "metadata": {
  "@webio": {
   "lastCommId": null,
   "lastKernelId": null
  },
  "celltoolbar": "Slideshow",
  "kernelspec": {
   "display_name": "Julia 1.1.0",
   "language": "julia",
   "name": "julia-1.1"
  },
  "language_info": {
   "file_extension": ".jl",
   "mimetype": "application/julia",
   "name": "julia",
   "version": "1.1.0"
  }
 },
 "nbformat": 4,
 "nbformat_minor": 2
}
