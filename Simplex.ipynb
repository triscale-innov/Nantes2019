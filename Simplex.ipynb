{
 "cells": [
  {
   "cell_type": "code",
   "execution_count": 1,
   "metadata": {
    "slideshow": {
     "slide_type": "skip"
    }
   },
   "outputs": [],
   "source": [
    "include(\"util_simplex.jl\")"
   ]
  },
  {
   "cell_type": "markdown",
   "metadata": {
    "slideshow": {
     "slide_type": "slide"
    }
   },
   "source": [
    "# Problème d'optimisation linéaire avec l'algorithme du simplexe\n",
    "\n",
    "Puisque la journée est placée sous le signe de l'optimisation, consacrons nous (enfin) à un problème du type:\n",
    "\n",
    "<br/>\n",
    "\n",
    "\\begin{align}\n",
    "  & argmin_x \\quad c\\cdot x \\\\\n",
    "\\text{sous contraintes :} \\qquad & Ax \\leqslant b\n",
    "\\end{align}"
   ]
  },
  {
   "cell_type": "code",
   "execution_count": 2,
   "metadata": {
    "slideshow": {
     "slide_type": "subslide"
    }
   },
   "outputs": [],
   "source": [
    "A = load(Matrix{Float64}, \"dataSimplex/A.dat\");\n",
    "b = load(Vector{Float64}, \"dataSimplex/b.dat\");\n",
    "c = load(Vector{Float64}, \"dataSimplex/c.dat\");"
   ]
  },
  {
   "cell_type": "code",
   "execution_count": 3,
   "metadata": {},
   "outputs": [
    {
     "ename": "ErrorException",
     "evalue": "Singular matrix for entering index 2",
     "output_type": "error",
     "traceback": [
      "Singular matrix for entering index 2",
      "",
      "Stacktrace:",
      " [1] error(::String) at ./error.jl:33",
      " [2] simplex(::Array{Float64,2}, ::Array{Float64,1}, ::Array{Float64,1}, ::Array{Int64,1}) at /home/francois/travail/TriScale/git/2019.06-Nantes/util_simplex.jl:29",
      " [3] simplex(::Array{Float64,2}, ::Array{Float64,1}, ::Array{Float64,1}) at /home/francois/travail/TriScale/git/2019.06-Nantes/util_simplex.jl:109",
      " [4] top-level scope at In[3]:1"
     ]
    }
   ],
   "source": [
    "simplex(A, b, c)"
   ]
  },
  {
   "cell_type": "markdown",
   "metadata": {
    "slideshow": {
     "slide_type": "slide"
    }
   },
   "source": [
    "## Analyse en arithmétique rationnelle"
   ]
  },
  {
   "cell_type": "code",
   "execution_count": 4,
   "metadata": {},
   "outputs": [
    {
     "data": {
      "text/plain": [
       "8-element Array{Float64,1}:\n",
       " 938.6915102244791       \n",
       " 124.99999999999625      \n",
       " 938.6915102244419       \n",
       "   0.0                   \n",
       " 938.6915102244336       \n",
       "   3.0947466811426485e-12\n",
       " 938.6915102244423       \n",
       "   0.0                   "
      ]
     },
     "execution_count": 4,
     "metadata": {},
     "output_type": "execute_result"
    }
   ],
   "source": [
    "const Rat = Rational{BigInt}\n",
    "\n",
    "res = simplex(Rat.(A), Rat.(b), Rat.(c))\n",
    "value.(res.solution)"
   ]
  },
  {
   "cell_type": "markdown",
   "metadata": {
    "slideshow": {
     "slide_type": "slide"
    }
   },
   "source": [
    "## Analyse en arithmétique stochastique"
   ]
  },
  {
   "cell_type": "code",
   "execution_count": 5,
   "metadata": {
    "slideshow": {
     "slide_type": "subslide"
    }
   },
   "outputs": [
    {
     "data": {
      "text/plain": [
       "test (generic function with 1 method)"
      ]
     },
     "execution_count": 5,
     "metadata": {},
     "output_type": "execute_result"
    }
   ],
   "source": [
    "function test(T)\n",
    "    try\n",
    "        res = simplex(T.(A), T.(b), T.(c))\n",
    "        value.(res.solution)\n",
    "    catch e\n",
    "        value.(NaN*ones(T, length(c)))\n",
    "    end\n",
    "end"
   ]
  },
  {
   "cell_type": "code",
   "execution_count": 6,
   "metadata": {
    "slideshow": {
     "slide_type": "subslide"
    }
   },
   "outputs": [
    {
     "data": {
      "text/plain": [
       "8×12 Array{Float64,2}:\n",
       " 938.692        NaN  NaN  938.692        NaN  …  938.692        938.692      \n",
       " 125.0          NaN  NaN  125.0          NaN     125.0          125.0        \n",
       " 938.692        NaN  NaN  938.692        NaN     938.692        938.692      \n",
       "   0.0          NaN  NaN    0.0          NaN       0.0            0.0        \n",
       " 938.692        NaN  NaN  938.692        NaN     938.692        938.692      \n",
       "   3.09475e-12  NaN  NaN    3.08376e-12  NaN  …    3.11218e-12    3.08376e-12\n",
       " 938.692        NaN  NaN  938.692        NaN     938.692        938.692      \n",
       "   0.0          NaN  NaN    0.0          NaN       0.0            0.0        "
      ]
     },
     "execution_count": 6,
     "metadata": {},
     "output_type": "execute_result"
    }
   ],
   "source": [
    "hcat(test(Rational{BigInt}), test(Float64), (test(SFloat64) for _ in 1:10)...)"
   ]
  },
  {
   "cell_type": "markdown",
   "metadata": {
    "slideshow": {
     "slide_type": "slide"
    }
   },
   "source": [
    "## Analyse de la version \"réparée\""
   ]
  },
  {
   "cell_type": "code",
   "execution_count": 7,
   "metadata": {
    "slideshow": {
     "slide_type": "subslide"
    }
   },
   "outputs": [
    {
     "data": {
      "text/plain": [
       "8×12 Array{Float64,2}:\n",
       " 938.692        938.692        938.692        …  938.692        938.692      \n",
       " 125.0          125.0          125.0             125.0          125.0        \n",
       " 938.692        938.692        938.692           938.692        938.692      \n",
       "   0.0            0.0            0.0               0.0            0.0        \n",
       " 938.692        938.692        938.692           938.692        938.692      \n",
       "   3.09475e-12    3.11218e-12    3.05533e-12  …    3.02691e-12    3.08376e-12\n",
       " 938.692        938.692        938.692           938.692        938.692      \n",
       "   0.0            0.0            0.0               0.0            0.0        "
      ]
     },
     "execution_count": 7,
     "metadata": {},
     "output_type": "execute_result"
    }
   ],
   "source": [
    "fix_simplex = true\n",
    "hcat(test(Rational{BigInt}), test(Float64), (test(SFloat64) for _ in 1:10)...)"
   ]
  },
  {
   "cell_type": "code",
   "execution_count": 8,
   "metadata": {
    "slideshow": {
     "slide_type": "subslide"
    }
   },
   "outputs": [
    {
     "data": {
      "text/plain": [
       "8-element Array{Tuple{Float64,Float64},1}:\n",
       " (938.6915102244791, 15.805888328751902)  \n",
       " (124.99999999999628, 15.881820445247028) \n",
       " (938.691510224442, 15.873237615700614)   \n",
       " (0.0, NaN)                               \n",
       " (938.6915102244336, 15.94238896478375)   \n",
       " (3.070965703955153e-12, 2.08132710022463)\n",
       " (938.6915102244423, 15.791873966951764)  \n",
       " (0.0, NaN)                               "
      ]
     },
     "execution_count": 8,
     "metadata": {},
     "output_type": "execute_result"
    }
   ],
   "source": [
    "@reliable_digits simplex(SFloat64.(A), SFloat64.(b), SFloat64.(c)).solution"
   ]
  },
  {
   "cell_type": "code",
   "execution_count": 9,
   "metadata": {
    "slideshow": {
     "slide_type": "subslide"
    }
   },
   "outputs": [
    {
     "name": "stdout",
     "output_type": "stream",
     "text": [
      "  52.500 μs (185 allocations: 76.67 KiB)\n",
      "  206.155 μs (250 allocations: 64.19 KiB)\n",
      "  27.754 ms (858913 allocations: 18.25 MiB)\n"
     ]
    }
   ],
   "source": [
    "using BenchmarkTools\n",
    "@btime simplex(A, b, c)\n",
    "@btime simplex(SFloat64.(A), SFloat64.(b), SFloat64.(c))\n",
    "@btime simplex(Rat.(A), Rat.(b), Rat.(c));"
   ]
  }
 ],
 "metadata": {
  "@webio": {
   "lastCommId": null,
   "lastKernelId": null
  },
  "celltoolbar": "Slideshow",
  "kernelspec": {
   "display_name": "Julia 1.1.0",
   "language": "julia",
   "name": "julia-1.1"
  },
  "language_info": {
   "file_extension": ".jl",
   "mimetype": "application/julia",
   "name": "julia",
   "version": "1.1.0"
  }
 },
 "nbformat": 4,
 "nbformat_minor": 2
}
